{
 "cells": [
  {
   "cell_type": "code",
   "execution_count": 10,
   "id": "f2a3b270",
   "metadata": {},
   "outputs": [
    {
     "name": "stdout",
     "output_type": "stream",
     "text": [
      "enter the number20\n",
      "the number is divisible with 5\n"
     ]
    }
   ],
   "source": [
    "num=int(input(\"enter the number\"))\n",
    "if num%3==0 and num%5==0:\n",
    "    print(\"the number is divisible with 3 & 5\")\n",
    "elif num%3==0:\n",
    "    print(\"the number is divisible with 3\")\n",
    "elif num%5==0:\n",
    "    print(\"the number is divisible with 5\")\n",
    "else:\n",
    "    print(\"Invalid\")\n",
    "    "
   ]
  },
  {
   "cell_type": "code",
   "execution_count": 17,
   "id": "84651a60",
   "metadata": {},
   "outputs": [
    {
     "name": "stdout",
     "output_type": "stream",
     "text": [
      "100 99 98 97 96 95 94 93 92 91 90 89 88 87 86 85 84 83 82 81 80 79 78 77 76 75 74 73 72 71 70 69 68 67 66 65 64 63 62 61 60 59 58 57 56 55 54 53 52 51 50 49 48 47 46 45 44 43 42 41 40 39 38 37 36 35 34 33 32 31 30 29 28 27 26 25 24 23 22 21 20 19 18 17 16 15 14 13 12 11 10 9 8 7 6 5 4 3 2 1 "
     ]
    }
   ],
   "source": [
    "for i in range(100,0,-1):\n",
    "    print(i,end=\" \")"
   ]
  },
  {
   "cell_type": "code",
   "execution_count": 19,
   "id": "43507279",
   "metadata": {},
   "outputs": [
    {
     "name": "stdout",
     "output_type": "stream",
     "text": [
      "the even numbers are [100, 98, 96, 94, 92, 90, 88, 86, 84, 82, 80, 78, 76, 74, 72, 70, 68, 66, 64, 62, 60, 58, 56, 54, 52, 50, 48, 46, 44, 42, 40, 38, 36, 34, 32, 30, 28, 26, 24, 22, 20, 18, 16, 14, 12, 10, 8, 6, 4, 2]\n",
      "the odd numbers are [101, 99, 97, 95, 93, 91, 89, 87, 85, 83, 81, 79, 77, 75, 73, 71, 69, 67, 65, 63, 61, 59, 57, 55, 53, 51, 49, 47, 45, 43, 41, 39, 37, 35, 33, 31, 29, 27, 25, 23, 21, 19, 17, 15, 13, 11, 9, 7, 5, 3, 1]\n"
     ]
    }
   ],
   "source": [
    "list=[]\n",
    "list1=[]\n",
    "for i in range(101,0,-1):\n",
    "    if i%2==0:\n",
    "        list.append(i)\n",
    "    else:\n",
    "        list1.append(i)\n",
    "print(\"the even numbers are\",list)\n",
    "print(\"the odd numbers are\",list1)"
   ]
  },
  {
   "cell_type": "code",
   "execution_count": 22,
   "id": "969bab5d",
   "metadata": {},
   "outputs": [
    {
     "name": "stdout",
     "output_type": "stream",
     "text": [
      "1 2 3 4 5 6 7 8 9 10 11 12 13 14 15 16 17 18 19 20 21 22 23 24 25 26 27 28 29 30 31 32 33 34 35 36 37 38 39 40 41 42 43 44 45 46 47 48 49 "
     ]
    }
   ],
   "source": [
    "for i in range(1,100):\n",
    "    if(i<50):\n",
    "        print(i,end=\" \")\n",
    "    else:\n",
    "        break"
   ]
  },
  {
   "cell_type": "code",
   "execution_count": null,
   "id": "b3a636df",
   "metadata": {},
   "outputs": [],
   "source": [
    "for i in range(1,101,1):\n",
    "    "
   ]
  },
  {
   "cell_type": "code",
   "execution_count": 27,
   "id": "b12e31c7",
   "metadata": {},
   "outputs": [
    {
     "data": {
      "text/plain": [
       "'nithishguptha'"
      ]
     },
     "execution_count": 27,
     "metadata": {},
     "output_type": "execute_result"
    }
   ],
   "source": [
    "def s(a,b):\n",
    "    return a+b\n",
    "s(10,20)"
   ]
  },
  {
   "cell_type": "code",
   "execution_count": 30,
   "id": "a8fdc119",
   "metadata": {},
   "outputs": [
    {
     "name": "stdout",
     "output_type": "stream",
     "text": [
      "12 13 0\n"
     ]
    }
   ],
   "source": [
    "def fun(a,b,c):\n",
    "    print(a,b,c)\n",
    "fun(12,13,0)"
   ]
  },
  {
   "cell_type": "code",
   "execution_count": null,
   "id": "a80b51cd",
   "metadata": {},
   "outputs": [],
   "source": [
    "#functions without parameters\n",
    "def myfun():\n",
    "    print(\"my name is sarat\")\n",
    "myfun()\n",
    "#functions with parameters\n",
    "def fun1(a,b):\n",
    "    return a+b\n",
    "fun1(12,13)\n",
    "#keyword arguements\n",
    "def fun2(a,b):\n",
    "    return a+b\n",
    "fun2(a=10,b=20)\n",
    "#default arguements\n",
    "def fun3(a,b=3): #the arguements are taken from left to right\n",
    "    return a+b\n",
    "fun3(5)\n"
   ]
  },
  {
   "cell_type": "code",
   "execution_count": 1,
   "id": "73a75634",
   "metadata": {},
   "outputs": [
    {
     "name": "stdout",
     "output_type": "stream",
     "text": [
      "1\n",
      "2\n",
      "3\n",
      "6\n"
     ]
    }
   ],
   "source": [
    "num1=int(input())\n",
    "num2=int(input())\n",
    "num3=int(input())\n",
    "if num1==7:\n",
    "    print(num2*num3)\n",
    "elif num2==7:\n",
    "    print(num3)\n",
    "elif num3==7:\n",
    "    print(\"-1\")\n",
    "else:\n",
    "    print(num1*num2*num3)"
   ]
  },
  {
   "cell_type": "code",
   "execution_count": 6,
   "id": "4423c46d",
   "metadata": {},
   "outputs": [
    {
     "name": "stdout",
     "output_type": "stream",
     "text": [
      "enter the currency nameEuro\n",
      "entrer the amount300\n",
      "the amount is i get  4.251 INR\n"
     ]
    }
   ],
   "source": [
    "currency_name=input(\"enter the currency name\")\n",
    "amount=int(input(\"entrer the amount\"))\n",
    "if currency_name==\"Euro\":\n",
    "    amt=amount*0.01417\n",
    "    print(\"the amount is i get \",amt,\"INR\")\n",
    "elif currency_name==\"British Pound\":\n",
    "    amt=amount*0.0100\n",
    "    print(\"the amount is i get \",amt,\"INR\")\n",
    "elif currency_name==\"Australian Dollar\":\n",
    "    amt=amount*0.02140\n",
    "    print(\"the amount is i get \",amt,\"INR\")\n",
    "elif currency_name==\"Canadian Dollar\":\n",
    "    amt=amount*0.02027\n",
    "    print(\"the amount is i get \",amt,\"INR\")\n",
    "else:\n",
    "    print(\"-1\")\n"
   ]
  },
  {
   "cell_type": "code",
   "execution_count": 3,
   "id": "d91e4cba",
   "metadata": {},
   "outputs": [
    {
     "name": "stdout",
     "output_type": "stream",
     "text": [
      "enter the amount21\n",
      "enter the one ruppe coins2\n",
      "enter the 5 ruppe coins4\n",
      "the requremet is 4 1\n"
     ]
    }
   ],
   "source": [
    "#infosys question\n",
    "def exchange(amount,one_ru,five_ru):\n",
    "    fcs=amount//5\n",
    "    fc=fcs*5\n",
    "    ocs=amount-fc\n",
    "    if one_ru>=ocs and fcs>=five_ru:\n",
    "        print(\"the requremet is\",fcs,ocs)\n",
    "    else:\n",
    "        print(\"insufficiant\")\n",
    "amount=int(input(\"enter the amount\"))\n",
    "one_ru=int(input(\"enter the one ruppe coins\"))\n",
    "five_ru=int(input(\"enter the 5 ruppe coins\"))\n",
    "exchange(amount,one_ru,five_ru)\n"
   ]
  },
  {
   "cell_type": "code",
   "execution_count": null,
   "id": "65d23a9e",
   "metadata": {},
   "outputs": [],
   "source": []
  }
 ],
 "metadata": {
  "kernelspec": {
   "display_name": "Python 3 (ipykernel)",
   "language": "python",
   "name": "python3"
  },
  "language_info": {
   "codemirror_mode": {
    "name": "ipython",
    "version": 3
   },
   "file_extension": ".py",
   "mimetype": "text/x-python",
   "name": "python",
   "nbconvert_exporter": "python",
   "pygments_lexer": "ipython3",
   "version": "3.9.7"
  }
 },
 "nbformat": 4,
 "nbformat_minor": 5
}
